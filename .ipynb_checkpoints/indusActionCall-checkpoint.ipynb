{
 "cells": [
  {
   "cell_type": "code",
   "execution_count": 56,
   "metadata": {
    "collapsed": false
   },
   "outputs": [],
   "source": [
    "import numpy as np\n",
    "import pandas as pd\n",
    "from pandas import DataFrame,Series\n",
    "import matplotlib.pyplot as plt\n",
    "%matplotlib inline\n",
    "import seaborn as sns\n",
    "from sklearn.linear_model import LinearRegression\n",
    "import math"
   ]
  },
  {
   "cell_type": "code",
   "execution_count": 57,
   "metadata": {
    "collapsed": false
   },
   "outputs": [
    {
     "name": "stderr",
     "output_type": "stream",
     "text": [
      "/home/popoago/anaconda3/lib/python3.5/site-packages/IPython/core/interactiveshell.py:2902: DtypeWarning: Columns (18) have mixed types. Specify dtype option on import or set low_memory=False.\n",
      "  interactivity=interactivity, compiler=compiler, result=result)\n"
     ]
    }
   ],
   "source": [
    "#df=pd.read_csv(\"applicants.csv\")\n",
    "df=pd.read_csv(\"IA Data - 11 July - ia.data-6933-July11.csv.csv\")"
   ]
  },
  {
   "cell_type": "code",
   "execution_count": 3,
   "metadata": {
    "collapsed": false
   },
   "outputs": [],
   "source": [
    "#turn the below data into separate columns\n",
    "#DataFrame(df[\"Child.Details\"][i][j] for i,j in zip(range(len(df[\"Child.Details\"])),range(len()))"
   ]
  },
  {
   "cell_type": "code",
   "execution_count": 4,
   "metadata": {
    "collapsed": false
   },
   "outputs": [],
   "source": [
    "#DataFrame(df.columns)"
   ]
  },
  {
   "cell_type": "code",
   "execution_count": 5,
   "metadata": {
    "collapsed": true
   },
   "outputs": [],
   "source": [
    "col_new=[\"Unnamed: 0\",\"Phone.Number\",\"Day.of.identification.\",\"Eligible.Children\",\"Area/Locality/Pincode/Region\",\"docnull\",\"RTE1\",\"RTE2\",\"RTE3\",\"rtenull\",\"infnull\"]"
   ]
  },
  {
   "cell_type": "code",
   "execution_count": 58,
   "metadata": {
    "collapsed": false
   },
   "outputs": [],
   "source": [
    "#df[\"School.Ne.Kitne.Pase.Liye\"].unique()\n",
    "#df[\"Pincode\"]\n",
    "data=DataFrame(df[\"Phone.Number\"].unique(),columns=[\"phone_no.\"])"
   ]
  },
  {
   "cell_type": "code",
   "execution_count": 7,
   "metadata": {
    "collapsed": true
   },
   "outputs": [],
   "source": [
    "#df.drop_duplicates(subset=[\"Phone.Number\"],inplace=True)"
   ]
  },
  {
   "cell_type": "code",
   "execution_count": 8,
   "metadata": {
    "collapsed": false
   },
   "outputs": [
    {
     "name": "stdout",
     "output_type": "stream",
     "text": [
      "<class 'pandas.core.frame.DataFrame'>\n",
      "Int64Index: 6932 entries, 0 to 6931\n",
      "Data columns (total 2 columns):\n",
      "Phone.Number    6932 non-null object\n",
      "Status          6360 non-null object\n",
      "dtypes: object(2)\n",
      "memory usage: 162.5+ KB\n"
     ]
    }
   ],
   "source": [
    "df[[\"Phone.Number\",\"Status\"]].info()"
   ]
  },
  {
   "cell_type": "code",
   "execution_count": 9,
   "metadata": {
    "collapsed": true
   },
   "outputs": [],
   "source": [
    "ans=1.688085+(3*3.626681)"
   ]
  },
  {
   "cell_type": "code",
   "execution_count": 59,
   "metadata": {
    "collapsed": true
   },
   "outputs": [],
   "source": [
    "#when respective weights have already been multiplied\n",
    "def calc_query_weight(parameter):\n",
    "    s=0\n",
    "    for i in parameter:\n",
    "        s+=i\n",
    "    return s"
   ]
  },
  {
   "cell_type": "code",
   "execution_count": 60,
   "metadata": {
    "collapsed": true
   },
   "outputs": [],
   "source": [
    "def address(parameter):\n",
    "    st=\"\"\n",
    "    flag=0\n",
    "    for i in parameter:\n",
    "        a = str(i)\n",
    "        if a!='nan':\n",
    "            if flag==0:\n",
    "                st+=a\n",
    "                flag=1\n",
    "            else:\n",
    "                st+=\", \" + a\n",
    "    \n",
    "    return st\n",
    "        "
   ]
  },
  {
   "cell_type": "code",
   "execution_count": 61,
   "metadata": {
    "collapsed": true
   },
   "outputs": [],
   "source": [
    "def calc_proof(parameter):\n",
    "    for i in parameter:\n",
    "        if i==1:\n",
    "            return 1\n",
    "    return 0"
   ]
  },
  {
   "cell_type": "code",
   "execution_count": 62,
   "metadata": {
    "collapsed": true
   },
   "outputs": [],
   "source": [
    "def qwer(parameter):\n",
    "    return np.sqrt((parameter/(13-parameter)))"
   ]
  },
  {
   "cell_type": "code",
   "execution_count": 63,
   "metadata": {
    "collapsed": true
   },
   "outputs": [],
   "source": [
    "def appli_filed_new(parameter):\n",
    "    if parameter>ans:\n",
    "        return ans\n",
    "    else:\n",
    "        return parameter"
   ]
  },
  {
   "cell_type": "code",
   "execution_count": 64,
   "metadata": {
    "collapsed": true
   },
   "outputs": [],
   "source": [
    "def fill_na(parameter):\n",
    "    if math.isnan(parameter)==True:\n",
    "        return np.random.randint(0,5)\n",
    "    else:\n",
    "        return parameter"
   ]
  },
  {
   "cell_type": "code",
   "execution_count": 65,
   "metadata": {
    "collapsed": false
   },
   "outputs": [],
   "source": [
    "data[\"address\"]=df[[\"Area\",\"Locality\",\"Region\",\"Pincode\"]].apply(address,axis=1)\n"
   ]
  },
  {
   "cell_type": "code",
   "execution_count": 66,
   "metadata": {
    "collapsed": false
   },
   "outputs": [],
   "source": [
    "data[\"income/category_proof\"]=df[[\"BPLCard\",\"AAYRationCard\",\"FoodSecurityCard\",\"IncomeCertificate\",\"CasteCertificate\"]].apply(calc_proof,axis=1)"
   ]
  },
  {
   "cell_type": "code",
   "execution_count": 72,
   "metadata": {
    "collapsed": true
   },
   "outputs": [],
   "source": [
    "data[\"birth_proof\"]=df[[\"HospitalRecord\",\"AnganwadiRecord\",\"BirthCertificate\",\"SelfAffidavit\"]].apply(calc_proof,axis=1)"
   ]
  },
  {
   "cell_type": "code",
   "execution_count": 73,
   "metadata": {
    "collapsed": true
   },
   "outputs": [],
   "source": [
    "data[\"address_proof\"]=df[[\"AadhaarCard\",\"Elec_WaterBill\",\"License\",\"PanCard\",\"RationCard\",\"VoterCard\"]].apply(calc_proof,axis=1)"
   ]
  },
  {
   "cell_type": "code",
   "execution_count": 69,
   "metadata": {
    "collapsed": false
   },
   "outputs": [],
   "source": [
    "df[\"RTE1\"]=.5*df[\"RTE1\"]\n",
    "df[[\"RTE2\",\"RTE3\"]]=.25*df[[\"RTE2\",\"RTE3\"]]\n",
    "data[\"rte_info\"]=df[[\"RTE1\",\"RTE2\",\"RTE3\"]].apply(calc_query_weight,axis=1)"
   ]
  },
  {
   "cell_type": "code",
   "execution_count": 70,
   "metadata": {
    "collapsed": true
   },
   "outputs": [],
   "source": [
    "data[\"applications_filed\"]=df[\"Number.of.applications.file\"]"
   ]
  },
  {
   "cell_type": "code",
   "execution_count": 71,
   "metadata": {
    "collapsed": true
   },
   "outputs": [],
   "source": [
    "data[\"total_cert\"]=data[[\"income/category_proof\",\"birth_proof\",\"address_proof\"]].apply(calc_query_weight,axis=1)"
   ]
  },
  {
   "cell_type": "code",
   "execution_count": 471,
   "metadata": {
    "collapsed": false
   },
   "outputs": [],
   "source": [
    "#sns.factorplot(\"applications_filed\",data=data,hue=\"total_cert\",kind=\"count\",size=10)"
   ]
  },
  {
   "cell_type": "code",
   "execution_count": 472,
   "metadata": {
    "collapsed": false
   },
   "outputs": [],
   "source": [
    "#sns.factorplot(\"applications_filed\",data=data,hue=\"rte_info\",kind=\"count\",size=10)"
   ]
  },
  {
   "cell_type": "code",
   "execution_count": 473,
   "metadata": {
    "collapsed": false
   },
   "outputs": [],
   "source": [
    "#sns.factorplot(\"applications_filed\",col=\"total_cert\",data=data,kind=\"count\",size=10,col_wrap=2,aspect=0.8)"
   ]
  },
  {
   "cell_type": "code",
   "execution_count": 474,
   "metadata": {
    "collapsed": false
   },
   "outputs": [],
   "source": [
    "#data[\"applications_filed\"].fillna(data[\"applications_filed\"].mean(),inplace=True)"
   ]
  },
  {
   "cell_type": "code",
   "execution_count": 74,
   "metadata": {
    "collapsed": false
   },
   "outputs": [],
   "source": [
    "data[\"applications_filed2\"]=data[\"applications_filed\"].apply(appli_filed_new)"
   ]
  },
  {
   "cell_type": "code",
   "execution_count": 75,
   "metadata": {
    "collapsed": true
   },
   "outputs": [],
   "source": [
    "data[\"appli\"]=data[\"applications_filed2\"].apply(qwer)"
   ]
  },
  {
   "cell_type": "code",
   "execution_count": 76,
   "metadata": {
    "collapsed": false
   },
   "outputs": [
    {
     "data": {
      "text/plain": [
       "count    6194.000000\n",
       "mean        0.351138\n",
       "std         0.892741\n",
       "min         0.000000\n",
       "25%         0.000000\n",
       "50%         0.000000\n",
       "75%         0.288675\n",
       "max         5.394582\n",
       "Name: appli, dtype: float64"
      ]
     },
     "execution_count": 76,
     "metadata": {},
     "output_type": "execute_result"
    }
   ],
   "source": [
    "data.appli.describe()"
   ]
  },
  {
   "cell_type": "code",
   "execution_count": 77,
   "metadata": {
    "collapsed": false
   },
   "outputs": [],
   "source": [
    "data[\"motivated1\"]=data[[\"rte_info\",\"appli\",\"total_cert\"]].apply(calc_query_weight,axis=1)"
   ]
  },
  {
   "cell_type": "code",
   "execution_count": 78,
   "metadata": {
    "collapsed": false
   },
   "outputs": [
    {
     "data": {
      "text/plain": [
       "(array([ 0.21861171,  0.04671011,  0.24996219,  0.37852018,  0.10288848,\n",
       "         0.035769  ,  0.00673299,  0.00462893,  0.01620125,  0.00441852]),\n",
       " array([ 0.        ,  0.93945817,  1.87891634,  2.81837451,  3.75783267,\n",
       "         4.69729084,  5.63674901,  6.57620718,  7.51566535,  8.45512352,\n",
       "         9.39458169]),\n",
       " <a list of 10 Patch objects>)"
      ]
     },
     "execution_count": 78,
     "metadata": {},
     "output_type": "execute_result"
    },
    {
     "data": {
      "image/png": "[encoded data removed]",
      "text/plain": [
       "<matplotlib.figure.Figure at 0x7f7f3e25f1d0>"
      ]
     },
     "metadata": {},
     "output_type": "display_data"
    }
   ],
   "source": [
    "plt.hist(data[\"motivated1\"].dropna(),normed=True)"
   ]
  },
  {
   "cell_type": "code",
   "execution_count": 80,
   "metadata": {
    "collapsed": false
   },
   "outputs": [
    {
     "data": {
      "text/plain": [
       "0    4586\n",
       "1     473\n",
       "Name: motivated1, dtype: int64"
      ]
     },
     "execution_count": 80,
     "metadata": {},
     "output_type": "execute_result"
    }
   ],
   "source": [
    "data.loc[data[\"motivated1\"]<=4.1,\"motivated1\"]=0\n",
    "data.loc[data[\"motivated1\"]>4.1,\"motivated1\"]=1\n",
    "data[\"motivated1\"].value_counts()\n",
    "#data.loc[data[\"motivated1\"]>4.1].info()"
   ]
  },
  {
   "cell_type": "code",
   "execution_count": 539,
   "metadata": {
    "collapsed": false
   },
   "outputs": [],
   "source": [
    "#data[\"appli\"]=data[\"appli\"].apply(fill_na)"
   ]
  },
  {
   "cell_type": "code",
   "execution_count": 540,
   "metadata": {
    "collapsed": false
   },
   "outputs": [],
   "source": [
    "#data[\"motivated2\"]=data[[\"rte_info\",\"total_cert\",\"appli\"]].apply(calc_query_weight,axis=1)"
   ]
  },
  {
   "cell_type": "code",
   "execution_count": 541,
   "metadata": {
    "collapsed": false
   },
   "outputs": [
    {
     "data": {
      "text/plain": [
       "(array([ 0.34427034,  0.06126845,  0.20269262,  0.30112138,  0.09566477,\n",
       "         0.032093  ,  0.0075242 ,  0.00476021,  0.01182374,  0.00322466]),\n",
       " array([ 0.        ,  0.93945817,  1.87891634,  2.81837451,  3.75783267,\n",
       "         4.69729084,  5.63674901,  6.57620718,  7.51566535,  8.45512352,\n",
       "         9.39458169]),\n",
       " <a list of 10 Patch objects>)"
      ]
     },
     "execution_count": 541,
     "metadata": {},
     "output_type": "execute_result"
    },
    {
     "data": {
      "image/png": "[encoded data removed]",
      "text/plain": [
       "<matplotlib.figure.Figure at 0x7fa16defcac8>"
      ]
     },
     "metadata": {},
     "output_type": "display_data"
    }
   ],
   "source": [
    "#plt.hist(data[\"motivated2\"],normed=True)"
   ]
  },
  {
   "cell_type": "code",
   "execution_count": 543,
   "metadata": {
    "collapsed": false
   },
   "outputs": [
    {
     "data": {
      "text/plain": [
       "0    6511\n",
       "1     421\n",
       "Name: motivated2, dtype: int64"
      ]
     },
     "execution_count": 543,
     "metadata": {},
     "output_type": "execute_result"
    }
   ],
   "source": [
    "#data.loc[data[\"motivated2\"]<=4.5,\"motivated2\"]=0\n",
    "#data.loc[data[\"motivated2\"]>4.5,\"motivated2\"]=1\n",
    "#data[\"motivated2\"].value_counts()\n",
    "#data.loc[data[\"motivated2\"]>4.5].info()"
   ]
  },
  {
   "cell_type": "code",
   "execution_count": 544,
   "metadata": {
    "collapsed": true
   },
   "outputs": [],
   "source": [
    "#data[\"applications_filed\"].fillna(data[\"applications_filed\"].median(),inplace=True)"
   ]
  },
  {
   "cell_type": "code",
   "execution_count": 545,
   "metadata": {
    "collapsed": false
   },
   "outputs": [],
   "source": [
    "#k=data.loc[pd.isnull(data[\"appli\"])==True][\"motivated2\"]"
   ]
  },
  {
   "cell_type": "code",
   "execution_count": 546,
   "metadata": {
    "collapsed": false
   },
   "outputs": [],
   "source": [
    "#lreg=LinearRegression()\n",
    "#x=data[[\"total_cert\",\"applications_filed\"]]\n",
    "#y=np.ravel(data[\"rte_info\"])"
   ]
  },
  {
   "cell_type": "code",
   "execution_count": 547,
   "metadata": {
    "collapsed": false
   },
   "outputs": [
    {
     "data": {
      "text/plain": [
       "LinearRegression(copy_X=True, fit_intercept=True, n_jobs=1, normalize=False)"
      ]
     },
     "execution_count": 547,
     "metadata": {},
     "output_type": "execute_result"
    }
   ],
   "source": [
    "#lreg.fit(x,y)"
   ]
  },
  {
   "cell_type": "code",
   "execution_count": 548,
   "metadata": {
    "collapsed": false
   },
   "outputs": [
    {
     "data": {
      "text/plain": [
       "0.007950449505777675"
      ]
     },
     "execution_count": 548,
     "metadata": {},
     "output_type": "execute_result"
    }
   ],
   "source": [
    "#lreg.intercept_"
   ]
  },
  {
   "cell_type": "code",
   "execution_count": 549,
   "metadata": {
    "collapsed": false
   },
   "outputs": [
    {
     "data": {
      "text/plain": [
       "array([ 0.02271423,  0.00281277])"
      ]
     },
     "execution_count": 549,
     "metadata": {},
     "output_type": "execute_result"
    }
   ],
   "source": [
    "#lreg.coef_"
   ]
  },
  {
   "cell_type": "code",
   "execution_count": 550,
   "metadata": {
    "collapsed": true
   },
   "outputs": [],
   "source": [
    "#data[\"applications_filed\"]=.0025*data[\"applications_filed\"]\n",
    "#data[\"total_cert\"]=.023*data[\"total_cert\"]\n",
    "#data[\"motivated3\"]=data[[\"applications_filed\",\"rte_info\",\"total_cert\"]].apply(calc_query_weight,axis=1)"
   ]
  },
  {
   "cell_type": "code",
   "execution_count": 551,
   "metadata": {
    "collapsed": false
   },
   "outputs": [
    {
     "data": {
      "text/html": [
       "<div>\n",
       "<table border=\"1\" class=\"dataframe\">\n",
       "  <thead>\n",
       "    <tr style=\"text-align: right;\">\n",
       "      <th></th>\n",
       "      <th>phone_no.</th>\n",
       "      <th>address</th>\n",
       "      <th>income/category_proof</th>\n",
       "      <th>birth_proof</th>\n",
       "      <th>address_proof</th>\n",
       "      <th>rte_info</th>\n",
       "      <th>applications_filed</th>\n",
       "      <th>total_cert</th>\n",
       "      <th>applications_filed2</th>\n",
       "      <th>appli</th>\n",
       "      <th>motivated1</th>\n",
       "      <th>motivated2</th>\n",
       "      <th>motivated3</th>\n",
       "    </tr>\n",
       "  </thead>\n",
       "  <tbody>\n",
       "    <tr>\n",
       "      <th>0</th>\n",
       "      <td>9718470573</td>\n",
       "      <td>Janakpuri, Kishanganj, East Delhi, 51</td>\n",
       "      <td>0</td>\n",
       "      <td>1</td>\n",
       "      <td>1</td>\n",
       "      <td>0.5</td>\n",
       "      <td>0</td>\n",
       "      <td>2</td>\n",
       "      <td>0.000000</td>\n",
       "      <td>0.000000</td>\n",
       "      <td>0</td>\n",
       "      <td>0</td>\n",
       "      <td>0.5460</td>\n",
       "    </tr>\n",
       "    <tr>\n",
       "      <th>1</th>\n",
       "      <td>9953140528</td>\n",
       "      <td>Mahaveer enklev, South West Delhi, 45</td>\n",
       "      <td>1</td>\n",
       "      <td>1</td>\n",
       "      <td>1</td>\n",
       "      <td>0.0</td>\n",
       "      <td>35</td>\n",
       "      <td>3</td>\n",
       "      <td>12.568128</td>\n",
       "      <td>5.394582</td>\n",
       "      <td>1</td>\n",
       "      <td>1</td>\n",
       "      <td>0.1565</td>\n",
       "    </tr>\n",
       "    <tr>\n",
       "      <th>2</th>\n",
       "      <td>9718535004</td>\n",
       "      <td>Utm Nagar, Som bajar road, West Delhi, 59</td>\n",
       "      <td>1</td>\n",
       "      <td>1</td>\n",
       "      <td>1</td>\n",
       "      <td>0.0</td>\n",
       "      <td>35</td>\n",
       "      <td>3</td>\n",
       "      <td>12.568128</td>\n",
       "      <td>5.394582</td>\n",
       "      <td>1</td>\n",
       "      <td>1</td>\n",
       "      <td>0.1565</td>\n",
       "    </tr>\n",
       "    <tr>\n",
       "      <th>3</th>\n",
       "      <td>9911900520</td>\n",
       "      <td>palam, 45</td>\n",
       "      <td>0</td>\n",
       "      <td>0</td>\n",
       "      <td>0</td>\n",
       "      <td>0.0</td>\n",
       "      <td>0</td>\n",
       "      <td>0</td>\n",
       "      <td>0.000000</td>\n",
       "      <td>0.000000</td>\n",
       "      <td>0</td>\n",
       "      <td>0</td>\n",
       "      <td>0.0000</td>\n",
       "    </tr>\n",
       "    <tr>\n",
       "      <th>4</th>\n",
       "      <td>9910369029</td>\n",
       "      <td>SANGAM VIHAR, JANTA PUBLC SCHOOL, 62</td>\n",
       "      <td>0</td>\n",
       "      <td>1</td>\n",
       "      <td>1</td>\n",
       "      <td>1.0</td>\n",
       "      <td>0</td>\n",
       "      <td>2</td>\n",
       "      <td>0.000000</td>\n",
       "      <td>0.000000</td>\n",
       "      <td>0</td>\n",
       "      <td>0</td>\n",
       "      <td>1.0460</td>\n",
       "    </tr>\n",
       "  </tbody>\n",
       "</table>\n",
       "</div>"
      ],
      "text/plain": [
       "    phone_no.                                    address  \\\n",
       "0  9718470573      Janakpuri, Kishanganj, East Delhi, 51   \n",
       "1  9953140528      Mahaveer enklev, South West Delhi, 45   \n",
       "2  9718535004  Utm Nagar, Som bajar road, West Delhi, 59   \n",
       "3  9911900520                                  palam, 45   \n",
       "4  9910369029       SANGAM VIHAR, JANTA PUBLC SCHOOL, 62   \n",
       "\n",
       "   income/category_proof  birth_proof  address_proof  rte_info  \\\n",
       "0                      0            1              1       0.5   \n",
       "1                      1            1              1       0.0   \n",
       "2                      1            1              1       0.0   \n",
       "3                      0            0              0       0.0   \n",
       "4                      0            1              1       1.0   \n",
       "\n",
       "   applications_filed  total_cert  applications_filed2     appli  motivated1  \\\n",
       "0                   0           2             0.000000  0.000000           0   \n",
       "1                  35           3            12.568128  5.394582           1   \n",
       "2                  35           3            12.568128  5.394582           1   \n",
       "3                   0           0             0.000000  0.000000           0   \n",
       "4                   0           2             0.000000  0.000000           0   \n",
       "\n",
       "   motivated2  motivated3  \n",
       "0           0      0.5460  \n",
       "1           1      0.1565  \n",
       "2           1      0.1565  \n",
       "3           0      0.0000  \n",
       "4           0      1.0460  "
      ]
     },
     "execution_count": 551,
     "metadata": {},
     "output_type": "execute_result"
    }
   ],
   "source": [
    "#data[\"applications_filed\"]=data[\"applications_filed\"]/.0025\n",
    "#data[\"total_cert\"]=data[\"total_cert\"]/.023\n",
    "#data.head()"
   ]
  },
  {
   "cell_type": "code",
   "execution_count": 552,
   "metadata": {
    "collapsed": false
   },
   "outputs": [
    {
     "name": "stdout",
     "output_type": "stream",
     "text": [
      "<class 'pandas.core.frame.DataFrame'>\n",
      "Int64Index: 484 entries, 0 to 6199\n",
      "Data columns (total 13 columns):\n",
      "phone_no.                484 non-null object\n",
      "address                  484 non-null object\n",
      "income/category_proof    484 non-null int64\n",
      "birth_proof              484 non-null int64\n",
      "address_proof            484 non-null int64\n",
      "rte_info                 484 non-null float64\n",
      "applications_filed       484 non-null float64\n",
      "total_cert               484 non-null float64\n",
      "applications_filed2      484 non-null float64\n",
      "appli                    484 non-null float64\n",
      "motivated1               484 non-null float64\n",
      "motivated2               484 non-null float64\n",
      "motivated3               484 non-null float64\n",
      "dtypes: float64(8), int64(3), object(2)\n",
      "memory usage: 52.9+ KB\n"
     ]
    }
   ],
   "source": [
    "#data.loc[data[\"motivated3\"]>.32].info()"
   ]
  },
  {
   "cell_type": "code",
   "execution_count": 553,
   "metadata": {
    "collapsed": false
   },
   "outputs": [
    {
     "data": {
      "text/plain": [
       "(array([  7.70676599e+00,   5.06170215e-02,   8.42319153e-01,\n",
       "          1.90787235e-01,   2.33617022e-02,   4.02340427e-02,\n",
       "          6.48936173e-03,   5.19148938e-02,   1.29787235e-02,\n",
       "          7.13829790e-02]),\n",
       " array([ 0.     ,  0.11115,  0.2223 ,  0.33345,  0.4446 ,  0.55575,\n",
       "         0.6669 ,  0.77805,  0.8892 ,  1.00035,  1.1115 ]),\n",
       " <a list of 10 Patch objects>)"
      ]
     },
     "execution_count": 553,
     "metadata": {},
     "output_type": "execute_result"
    },
    {
     "data": {
      "image/png": "[encoded data removed]",
      "text/plain": [
       "<matplotlib.figure.Figure at 0x7fa16de6fa20>"
      ]
     },
     "metadata": {},
     "output_type": "display_data"
    }
   ],
   "source": [
    "#plt.hist(data[\"motivated3\"],normed=True)"
   ]
  },
  {
   "cell_type": "code",
   "execution_count": 554,
   "metadata": {
    "collapsed": false
   },
   "outputs": [
    {
     "data": {
      "text/plain": [
       "0    6448\n",
       "1     484\n",
       "Name: motivated3, dtype: int64"
      ]
     },
     "execution_count": 554,
     "metadata": {},
     "output_type": "execute_result"
    }
   ],
   "source": [
    "#data.loc[data[\"motivated3\"]>0.32,\"motivated3\"]=1\n",
    "#data.loc[data[\"motivated3\"]<=0.32,\"motivated3\"]=0\n",
    "#data[\"motivated3\"].value_counts()"
   ]
  },
  {
   "cell_type": "code",
   "execution_count": 555,
   "metadata": {
    "collapsed": false
   },
   "outputs": [],
   "source": [
    "'''\n",
    "def fin_motivated(parameter):\n",
    "    for i in parameter:\n",
    "        if i==1:\n",
    "            return 1\n",
    "    return 0\n",
    "'''"
   ]
  },
  {
   "cell_type": "code",
   "execution_count": 556,
   "metadata": {
    "collapsed": false
   },
   "outputs": [],
   "source": [
    "#data[\"motivated\"]=data[[\"motivated1\",\"motivated2\",\"motivated3\"]].apply(fin_motivated,axis=1)"
   ]
  },
  {
   "cell_type": "code",
   "execution_count": 557,
   "metadata": {
    "collapsed": false
   },
   "outputs": [
    {
     "data": {
      "text/plain": [
       "0    6170\n",
       "1     762\n",
       "Name: motivated, dtype: int64"
      ]
     },
     "execution_count": 557,
     "metadata": {},
     "output_type": "execute_result"
    }
   ],
   "source": [
    "#data[\"motivated\"].value_counts()"
   ]
  },
  {
   "cell_type": "code",
   "execution_count": 81,
   "metadata": {
    "collapsed": false
   },
   "outputs": [],
   "source": [
    "data_final=df.loc[data[\"motivated1\"]==1]"
   ]
  },
  {
   "cell_type": "code",
   "execution_count": 82,
   "metadata": {
    "collapsed": false
   },
   "outputs": [
    {
     "name": "stderr",
     "output_type": "stream",
     "text": [
      "/home/popoago/anaconda3/lib/python3.5/site-packages/pandas/core/indexing.py:266: SettingWithCopyWarning: \n",
      "A value is trying to be set on a copy of a slice from a DataFrame.\n",
      "Try using .loc[row_indexer,col_indexer] = value instead\n",
      "\n",
      "See the caveats in the documentation: http://pandas.pydata.org/pandas-docs/stable/indexing.html#indexing-view-versus-copy\n",
      "  self.obj[key] = _infer_fill_value(value)\n",
      "/home/popoago/anaconda3/lib/python3.5/site-packages/pandas/core/indexing.py:426: SettingWithCopyWarning: \n",
      "A value is trying to be set on a copy of a slice from a DataFrame.\n",
      "Try using .loc[row_indexer,col_indexer] = value instead\n",
      "\n",
      "See the caveats in the documentation: http://pandas.pydata.org/pandas-docs/stable/indexing.html#indexing-view-versus-copy\n",
      "  self.obj[item] = s\n"
     ]
    },
    {
     "data": {
      "text/html": [
       "<div>\n",
       "<table border=\"1\" class=\"dataframe\">\n",
       "  <thead>\n",
       "    <tr style=\"text-align: right;\">\n",
       "      <th></th>\n",
       "      <th>Unnamed: 0</th>\n",
       "      <th>Phone.Number</th>\n",
       "      <th>Base.data.market</th>\n",
       "      <th>Nudge.data.marker</th>\n",
       "      <th>Response.data.marker</th>\n",
       "      <th>Time.Stamp...Family.identification</th>\n",
       "      <th>Day.of.identification.</th>\n",
       "      <th>Operator.Tag</th>\n",
       "      <th>Operator..Partner.Name</th>\n",
       "      <th>Operator.Name</th>\n",
       "      <th>...</th>\n",
       "      <th>Is.School.m.Pdhai.Achhi.Hoti.h</th>\n",
       "      <th>Is.School.Mai.Aane.Jane.Ki.Suvidha.h</th>\n",
       "      <th>Phle.Se.pdhta.tha</th>\n",
       "      <th>Clean.Mother.Occupation</th>\n",
       "      <th>Clean.Father.Occupation</th>\n",
       "      <th>Zone</th>\n",
       "      <th>X</th>\n",
       "      <th>ApplnStatus</th>\n",
       "      <th>A.Zone</th>\n",
       "      <th>motivated</th>\n",
       "    </tr>\n",
       "  </thead>\n",
       "  <tbody>\n",
       "    <tr>\n",
       "      <th>1</th>\n",
       "      <td>2</td>\n",
       "      <td>9953140528</td>\n",
       "      <td>1</td>\n",
       "      <td>1</td>\n",
       "      <td>1</td>\n",
       "      <td>27/01/2015 23:05</td>\n",
       "      <td>37</td>\n",
       "      <td>1</td>\n",
       "      <td>Operator</td>\n",
       "      <td>Mahender</td>\n",
       "      <td>...</td>\n",
       "      <td>0</td>\n",
       "      <td>0</td>\n",
       "      <td>0</td>\n",
       "      <td>Housewife</td>\n",
       "      <td>Government Job</td>\n",
       "      <td>12</td>\n",
       "      <td>NaN</td>\n",
       "      <td>1</td>\n",
       "      <td>CW</td>\n",
       "      <td>1</td>\n",
       "    </tr>\n",
       "    <tr>\n",
       "      <th>2</th>\n",
       "      <td>3</td>\n",
       "      <td>9718535004</td>\n",
       "      <td>1</td>\n",
       "      <td>1</td>\n",
       "      <td>1</td>\n",
       "      <td>9/2/2015 22:46:00</td>\n",
       "      <td>50</td>\n",
       "      <td>1</td>\n",
       "      <td>Operator</td>\n",
       "      <td>Mahender</td>\n",
       "      <td>...</td>\n",
       "      <td>0</td>\n",
       "      <td>0</td>\n",
       "      <td>0</td>\n",
       "      <td>Housewife</td>\n",
       "      <td>Private Job</td>\n",
       "      <td>13</td>\n",
       "      <td>NaN</td>\n",
       "      <td>1</td>\n",
       "      <td>CW</td>\n",
       "      <td>1</td>\n",
       "    </tr>\n",
       "    <tr>\n",
       "      <th>7</th>\n",
       "      <td>8</td>\n",
       "      <td>9540182481</td>\n",
       "      <td>1</td>\n",
       "      <td>1</td>\n",
       "      <td>1</td>\n",
       "      <td>16/03/2015 00:27</td>\n",
       "      <td>80</td>\n",
       "      <td>1</td>\n",
       "      <td>Operator</td>\n",
       "      <td>Sandeep</td>\n",
       "      <td>...</td>\n",
       "      <td>0</td>\n",
       "      <td>0</td>\n",
       "      <td>0</td>\n",
       "      <td>Housewife</td>\n",
       "      <td>Private Job</td>\n",
       "      <td>7</td>\n",
       "      <td>NaN</td>\n",
       "      <td>1</td>\n",
       "      <td>CE</td>\n",
       "      <td>1</td>\n",
       "    </tr>\n",
       "    <tr>\n",
       "      <th>8</th>\n",
       "      <td>9</td>\n",
       "      <td>9599117259</td>\n",
       "      <td>1</td>\n",
       "      <td>1</td>\n",
       "      <td>1</td>\n",
       "      <td>16/02/2015 00:16</td>\n",
       "      <td>57</td>\n",
       "      <td>1</td>\n",
       "      <td>Operator</td>\n",
       "      <td>Mahender</td>\n",
       "      <td>...</td>\n",
       "      <td>0</td>\n",
       "      <td>0</td>\n",
       "      <td>0</td>\n",
       "      <td>Housewife</td>\n",
       "      <td>Labourer</td>\n",
       "      <td>19</td>\n",
       "      <td>NaN</td>\n",
       "      <td>1</td>\n",
       "      <td>NW</td>\n",
       "      <td>1</td>\n",
       "    </tr>\n",
       "    <tr>\n",
       "      <th>9</th>\n",
       "      <td>10</td>\n",
       "      <td>9873737259</td>\n",
       "      <td>1</td>\n",
       "      <td>1</td>\n",
       "      <td>1</td>\n",
       "      <td>16/02/2015 23:23</td>\n",
       "      <td>57</td>\n",
       "      <td>1</td>\n",
       "      <td>Operator</td>\n",
       "      <td>Mahender</td>\n",
       "      <td>...</td>\n",
       "      <td>0</td>\n",
       "      <td>0</td>\n",
       "      <td>0</td>\n",
       "      <td>Housewife</td>\n",
       "      <td>Labourer</td>\n",
       "      <td>19</td>\n",
       "      <td>NaN</td>\n",
       "      <td>1</td>\n",
       "      <td>NW</td>\n",
       "      <td>1</td>\n",
       "    </tr>\n",
       "  </tbody>\n",
       "</table>\n",
       "<p>5 rows × 178 columns</p>\n",
       "</div>"
      ],
      "text/plain": [
       "   Unnamed: 0 Phone.Number  Base.data.market  Nudge.data.marker  \\\n",
       "1           2   9953140528                 1                  1   \n",
       "2           3   9718535004                 1                  1   \n",
       "7           8   9540182481                 1                  1   \n",
       "8           9   9599117259                 1                  1   \n",
       "9          10   9873737259                 1                  1   \n",
       "\n",
       "   Response.data.marker Time.Stamp...Family.identification  \\\n",
       "1                     1                   27/01/2015 23:05   \n",
       "2                     1                  9/2/2015 22:46:00   \n",
       "7                     1                   16/03/2015 00:27   \n",
       "8                     1                   16/02/2015 00:16   \n",
       "9                     1                   16/02/2015 23:23   \n",
       "\n",
       "   Day.of.identification.  Operator.Tag Operator..Partner.Name Operator.Name  \\\n",
       "1                      37             1               Operator      Mahender   \n",
       "2                      50             1               Operator      Mahender   \n",
       "7                      80             1               Operator       Sandeep   \n",
       "8                      57             1               Operator      Mahender   \n",
       "9                      57             1               Operator      Mahender   \n",
       "\n",
       "     ...    Is.School.m.Pdhai.Achhi.Hoti.h  \\\n",
       "1    ...                                 0   \n",
       "2    ...                                 0   \n",
       "7    ...                                 0   \n",
       "8    ...                                 0   \n",
       "9    ...                                 0   \n",
       "\n",
       "  Is.School.Mai.Aane.Jane.Ki.Suvidha.h Phle.Se.pdhta.tha  \\\n",
       "1                                    0                 0   \n",
       "2                                    0                 0   \n",
       "7                                    0                 0   \n",
       "8                                    0                 0   \n",
       "9                                    0                 0   \n",
       "\n",
       "  Clean.Mother.Occupation Clean.Father.Occupation Zone    X ApplnStatus  \\\n",
       "1               Housewife          Government Job   12  NaN           1   \n",
       "2               Housewife             Private Job   13  NaN           1   \n",
       "7               Housewife             Private Job    7  NaN           1   \n",
       "8               Housewife                Labourer   19  NaN           1   \n",
       "9               Housewife                Labourer   19  NaN           1   \n",
       "\n",
       "  A.Zone motivated  \n",
       "1     CW         1  \n",
       "2     CW         1  \n",
       "7     CE         1  \n",
       "8     NW         1  \n",
       "9     NW         1  \n",
       "\n",
       "[5 rows x 178 columns]"
      ]
     },
     "execution_count": 82,
     "metadata": {},
     "output_type": "execute_result"
    }
   ],
   "source": [
    "data_final.loc[data[\"motivated1\"]==1,\"motivated\"]=1\n",
    "data_final.head()"
   ]
  },
  {
   "cell_type": "code",
   "execution_count": 83,
   "metadata": {
    "collapsed": false
   },
   "outputs": [
    {
     "data": {
      "text/plain": [
       "1    473\n",
       "Name: motivated, dtype: int64"
      ]
     },
     "execution_count": 83,
     "metadata": {},
     "output_type": "execute_result"
    }
   ],
   "source": [
    "#data.to_csv(\"motivated_families_para.csv\")\n",
    "data_final.to_csv(\"motivated_families.csv\")\n",
    "data_final[\"motivated\"].value_counts()"
   ]
  },
  {
   "cell_type": "code",
   "execution_count": 84,
   "metadata": {
    "collapsed": false
   },
   "outputs": [],
   "source": [
    "data_final.reset_index(drop=True,inplace=True)"
   ]
  },
  {
   "cell_type": "code",
   "execution_count": 85,
   "metadata": {
    "collapsed": false
   },
   "outputs": [],
   "source": [
    "del data_final[\"Unnamed: 0\"]"
   ]
  },
  {
   "cell_type": "code",
   "execution_count": 86,
   "metadata": {
    "collapsed": true
   },
   "outputs": [],
   "source": [
    "data_final.to_csv(\"mot_fam_reindexed.csv\")"
   ]
  },
  {
   "cell_type": "code",
   "execution_count": null,
   "metadata": {
    "collapsed": true
   },
   "outputs": [],
   "source": []
  }
 ],
 "metadata": {
  "kernelspec": {
   "display_name": "Python 3",
   "language": "python",
   "name": "python3"
  },
  "language_info": {
   "codemirror_mode": {
    "name": "ipython",
    "version": 3
   },
   "file_extension": ".py",
   "mimetype": "text/x-python",
   "name": "python",
   "nbconvert_exporter": "python",
   "pygments_lexer": "ipython3",
   "version": "3.5.1"
  }
 },
 "nbformat": 4,
 "nbformat_minor": 0
}
