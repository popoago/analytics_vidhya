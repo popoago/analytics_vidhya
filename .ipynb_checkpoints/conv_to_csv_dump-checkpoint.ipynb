{
 "cells": [
  {
   "cell_type": "code",
   "execution_count": 103,
   "metadata": {
    "collapsed": false
   },
   "outputs": [
    {
     "data": {
      "text/plain": [
       "'\\ndump contains the data of applicants_applicant\\ncalls contains the data of calls_call\\nsucc_call contains dump values for which calls[\"end\"] is true\\nsucc_app contains succ_call values for which stage value belongs to [2,3,4,5,6,8]\\n\\n3 values need to be considered:\\n    1. address present in dump[\"data\"]\\n    2. information source present in dump[\"info\"]\\n    3. motivation present in dump[\"info\"]\\n\\nWe need to find the numberof calls by area\\n\\ndata_final contains the values [id,assignee_id,mobile] from succ_app\\n                               [area,area_present] from address2\\n                               [source,motivated] from info2\\n                               \\nfinally percentages are calculated by grouping by assignee_id and stored in percentage\\n'"
      ]
     },
     "execution_count": 103,
     "metadata": {},
     "output_type": "execute_result"
    }
   ],
   "source": [
    "'''\n",
    "dump contains the data of applicants_applicant\n",
    "calls contains the data of calls_call\n",
    "succ_call contains dump values for which calls[\"end\"] is true\n",
    "succ_app contains succ_call values for which stage value belongs to [2,3,4,5,6,8]\n",
    "\n",
    "3 values need to be considered:\n",
    "    1. address present in dump[\"data\"]\n",
    "    2. information source present in dump[\"info\"]\n",
    "    3. motivation present in dump[\"info\"]\n",
    "\n",
    "We need to find the numberof calls by area\n",
    "\n",
    "data_final contains the values [id,assignee_id,mobile] from succ_app\n",
    "                               [area,area_present] from address2\n",
    "                               [source,motivated] from info2\n",
    "                               \n",
    "finally percentages are calculated by grouping by assignee_id and stored in percentage\n",
    "'''\n",
    "#error is 'J3'85'\n",
    "#error is Pawan Gujjar's Relative\n",
    "#sister's\n",
    "#daughter's\n",
    "#relative's\n",
    "#someone's\n",
    "#Fabien's\n",
    "#Ann'S\n",
    "#Gujjar's\n",
    "\n",
    "'''\n",
    "The errors mentioned above will have to be removed manually because for converting the dump into json the delimiter\n",
    "used is ' so wherever it is present it will porduce an error '''"
   ]
  },
  {
   "cell_type": "code",
   "execution_count": 1,
   "metadata": {
    "collapsed": true
   },
   "outputs": [],
   "source": [
    "import pandas as pd\n",
    "import numpy as np\n",
    "from pandas import DataFrame,Series\n",
    "import ast\n",
    "import json\n",
    "#con = psycopg2.connect(database=\"jojjen\", user=\"postgres\", password=\"new_password\", host=\"localhost\", port=\"5432\")"
   ]
  },
  {
   "cell_type": "code",
   "execution_count": 2,
   "metadata": {
    "collapsed": false
   },
   "outputs": [],
   "source": [
    "dump=pd.read_csv(\"2Feb.csv\")\n",
    "#dump.info()"
   ]
  },
  {
   "cell_type": "code",
   "execution_count": 3,
   "metadata": {
    "collapsed": false
   },
   "outputs": [],
   "source": [
    "b=0\n",
    "def conv_to_dict(parameter):\n",
    "    global b\n",
    "    b+=1\n",
    "    if type(parameter)!=str:\n",
    "        k.append(parameter)\n",
    "    else:\n",
    "        json_acceptable_string = parameter.replace(\"'\", \"\\\"\")\n",
    "        try:\n",
    "            k.append(json.loads(json_acceptable_string))\n",
    "        except:\n",
    "            print(parameter)\n",
    "    return None"
   ]
  },
  {
   "cell_type": "code",
   "execution_count": 4,
   "metadata": {
    "collapsed": true
   },
   "outputs": [],
   "source": [
    "def make_a_list(parameter):\n",
    "    if parameter==parameter:\n",
    "        k.append(parameter)\n",
    "    else:\n",
    "        k.append({})"
   ]
  },
  {
   "cell_type": "code",
   "execution_count": 5,
   "metadata": {
    "collapsed": false
   },
   "outputs": [],
   "source": [
    "def make2(parameter):\n",
    "    if type(parameter)==dict:\n",
    "        k.append(np.nan)\n",
    "    else:\n",
    "        k.append(parameter)"
   ]
  },
  {
   "cell_type": "code",
   "execution_count": 6,
   "metadata": {
    "collapsed": true
   },
   "outputs": [],
   "source": [
    "def stages_to_add(parameter):\n",
    "    if parameter in [1,3,4,6,8,2,5,14,9]:\n",
    "        return 1\n",
    "    else:\n",
    "        return 0"
   ]
  },
  {
   "cell_type": "code",
   "execution_count": 7,
   "metadata": {
    "collapsed": true
   },
   "outputs": [],
   "source": [
    "def check_for_null(parameter):\n",
    "    lis=[]\n",
    "    for i in parameter:\n",
    "        if i==i:\n",
    "            return 1\n",
    "    return 0"
   ]
  },
  {
   "cell_type": "code",
   "execution_count": 8,
   "metadata": {
    "collapsed": false
   },
   "outputs": [],
   "source": [
    "def check_for_null2(parameter):\n",
    "    if parameter==parameter:\n",
    "        return 1\n",
    "    else:\n",
    "        return 0"
   ]
  },
  {
   "cell_type": "code",
   "execution_count": 9,
   "metadata": {
    "collapsed": true
   },
   "outputs": [],
   "source": [
    "def to_conv_children(parameter):\n",
    "    global cou\n",
    "    di={}\n",
    "    if len(parameter)==0 or parameter!=parameter:\n",
    "        di[\"index\"]=cou\n",
    "        k.append(di)\n",
    "        cou=cou+1\n",
    "        return None\n",
    "    else:\n",
    "        for i in parameter:\n",
    "            i[\"index\"]=cou\n",
    "            k.append(i)\n",
    "    cou=cou+1\n",
    "    return None"
   ]
  },
  {
   "cell_type": "code",
   "execution_count": null,
   "metadata": {
    "collapsed": true
   },
   "outputs": [],
   "source": [
    "#to convert data in dump\n",
    "k=[]\n",
    "b=dump[\"data\"].apply(conv_to_dict) \n",
    "data=DataFrame(k)\n",
    "'''if an error is present as described above, it will print out the data entry and you'll have to search \n",
    "for that entry in the excel sheet manually and replace the ' with another character like - or ` '''"
   ]
  },
  {
   "cell_type": "code",
   "execution_count": 10,
   "metadata": {
    "collapsed": false
   },
   "outputs": [],
   "source": [
    "#to convert address within data\n",
    "k=[]\n",
    "b=data[\"address\"].apply(make_a_list)\n",
    "address=DataFrame(k)\n",
    "#to convert birth certificate within data\n",
    "k=[]\n",
    "b=data[\"birth\"].apply(make_a_list)\n",
    "birth=DataFrame(k)\n",
    "#to convert category within data\n",
    "k=[]\n",
    "b=data[\"category\"].apply(make2)\n",
    "category=DataFrame(k)\n",
    "category.columns=[\"category\"]\n",
    "#to convert knowledge within data\n",
    "k=[]\n",
    "b=data[\"knowledge\"].apply(make_a_list)\n",
    "knowledge=DataFrame(k)\n",
    "#to convert orphan within data\n",
    "k=[]\n",
    "b=data[\"orphan\"].apply(make_a_list)\n",
    "orphan=DataFrame(k)\n",
    "#to convert income within data\n",
    "k=[]\n",
    "b=data[\"income\"].apply(make_a_list)\n",
    "income=DataFrame(k)\n",
    "#to convert disability within data\n",
    "k=[]\n",
    "b=data[\"disability\"].apply(make_a_list)\n",
    "disability=DataFrame(k)\n",
    "#to convert info in dump\n",
    "k=[]\n",
    "b=dump[\"info\"].apply(conv_to_dict) \n",
    "info=DataFrame(k)\n",
    "#to convert query in dump\n",
    "k=[]\n",
    "b=dump[\"query\"].apply(conv_to_dict) \n",
    "query=DataFrame(k)"
   ]
  },
  {
   "cell_type": "code",
   "execution_count": 11,
   "metadata": {
    "collapsed": true
   },
   "outputs": [],
   "source": [
    "#delete redundant columns\n",
    "del data[\"orphan\"]\n",
    "del data[\"income\"]\n",
    "del data[\"disability\"]\n",
    "del data[\"category\"]\n",
    "del data[\"birth\"]\n",
    "del data[\"address\"]\n",
    "del data[\"knowledge\"]\n",
    "del dump[\"data\"]\n",
    "del dump[\"info\"]\n",
    "del dump[\"query\"]"
   ]
  },
  {
   "cell_type": "code",
   "execution_count": 12,
   "metadata": {
    "collapsed": false
   },
   "outputs": [],
   "source": [
    "#merge all the columns\n",
    "dumps=pd.concat([dump,data,address,orphan,income,birth,disability,category,knowledge,info,query],axis=1)"
   ]
  },
  {
   "cell_type": "code",
   "execution_count": 13,
   "metadata": {
    "collapsed": false
   },
   "outputs": [],
   "source": [
    "#to convert children within data\n",
    "k=[]\n",
    "cou=0\n",
    "b=data[\"children\"].apply(to_conv_children)\n",
    "children=DataFrame(k)"
   ]
  },
  {
   "cell_type": "code",
   "execution_count": 14,
   "metadata": {
    "collapsed": false
   },
   "outputs": [],
   "source": [
    "#final dump\n",
    "final=pd.merge(dumps,children,right_on=\"index\",left_index=True)"
   ]
  },
  {
   "cell_type": "code",
   "execution_count": 15,
   "metadata": {
    "collapsed": true
   },
   "outputs": [],
   "source": [
    "del final[\"index\"]\n",
    "del final[\"children\"]"
   ]
  },
  {
   "cell_type": "code",
   "execution_count": 17,
   "metadata": {
    "collapsed": true
   },
   "outputs": [],
   "source": [
    "final.to_csv(\"dump2Feb.csv\")"
   ]
  },
  {
   "cell_type": "code",
   "execution_count": null,
   "metadata": {
    "collapsed": true
   },
   "outputs": [],
   "source": []
  }
 ],
 "metadata": {
  "kernelspec": {
   "display_name": "Python 3",
   "language": "python",
   "name": "python3"
  },
  "language_info": {
   "codemirror_mode": {
    "name": "ipython",
    "version": 3
   },
   "file_extension": ".py",
   "mimetype": "text/x-python",
   "name": "python",
   "nbconvert_exporter": "python",
   "pygments_lexer": "ipython3",
   "version": "3.5.1"
  }
 },
 "nbformat": 4,
 "nbformat_minor": 0
}
