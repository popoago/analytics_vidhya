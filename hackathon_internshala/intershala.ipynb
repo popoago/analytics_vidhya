{
 "cells": [
  {
   "cell_type": "code",
   "execution_count": 2,
   "metadata": {
    "collapsed": false
   },
   "outputs": [],
   "source": [
    "import numpy as np\n",
    "import pandas as pd\n",
    "%matplotlib inline\n"
   ]
  },
  {
   "cell_type": "code",
   "execution_count": 4,
   "metadata": {
    "collapsed": false
   },
   "outputs": [],
   "source": [
    "internship = pd.read_csv(\"Internship.csv\")"
   ]
  },
  {
   "cell_type": "code",
   "execution_count": 5,
   "metadata": {
    "collapsed": true
   },
   "outputs": [],
   "source": [
    "student = pd.read_csv(\"Student.csv\")"
   ]
  },
  {
   "cell_type": "code",
   "execution_count": 9,
   "metadata": {
    "collapsed": false
   },
   "outputs": [
    {
     "data": {
      "text/plain": [
       "Index(['Internship_ID', 'Internship_Profile', 'Skills_required',\n",
       "       'Internship_Type', 'Internship_Location', 'Internship_category',\n",
       "       'No_of_openings', 'Stipend_Type', 'Stipend1', 'Stipend2', \n",
       "       ...\n",
       "       'PhoneGap', 'Storytelling', 'MySQL.', 'Ionic', 'Design Skills',\n",
       "       'Corporate Sales', 'Entrepreneurship', 'Films', 'Foundation',\n",
       "       'Payment Gateway'],\n",
       "      dtype='object', length=286)"
      ]
     },
     "execution_count": 9,
     "metadata": {},
     "output_type": "execute_result"
    }
   ],
   "source": [
    "internship.columns"
   ]
  },
  {
   "cell_type": "code",
   "execution_count": 10,
   "metadata": {
    "collapsed": false
   },
   "outputs": [
    {
     "data": {
      "text/html": [
       "<div>\n",
       "<table border=\"1\" class=\"dataframe\">\n",
       "  <thead>\n",
       "    <tr style=\"text-align: right;\">\n",
       "      <th></th>\n",
       "      <th>Student_ID</th>\n",
       "      <th>Institute_Category</th>\n",
       "      <th>Institute_location</th>\n",
       "      <th>hometown</th>\n",
       "      <th>Degree</th>\n",
       "      <th>Stream</th>\n",
       "      <th>Current_year</th>\n",
       "      <th>Year_of_graduation</th>\n",
       "      <th>Performance_PG</th>\n",
       "      <th>PG_scale</th>\n",
       "      <th>Performance_UG</th>\n",
       "      <th>UG_Scale</th>\n",
       "      <th>Performance_12th</th>\n",
       "      <th>Performance_10th</th>\n",
       "      <th>Experience_Type</th>\n",
       "      <th>Profile</th>\n",
       "      <th>Location</th>\n",
       "      <th>Start Date</th>\n",
       "      <th>End Date</th>\n",
       "    </tr>\n",
       "  </thead>\n",
       "  <tbody>\n",
       "    <tr>\n",
       "      <th>0</th>\n",
       "      <td>7654321</td>\n",
       "      <td>Y</td>\n",
       "      <td>JADH</td>\n",
       "      <td>IIDB</td>\n",
       "      <td>B.Tech and M.Tech (Dual Degree)</td>\n",
       "      <td>Mathematics &amp; Computing</td>\n",
       "      <td>already a graduate</td>\n",
       "      <td>2012</td>\n",
       "      <td>8.5</td>\n",
       "      <td>10</td>\n",
       "      <td>8.6</td>\n",
       "      <td>10</td>\n",
       "      <td>86.2</td>\n",
       "      <td>91.6</td>\n",
       "      <td>job</td>\n",
       "      <td>Software Engineering</td>\n",
       "      <td>IJCE</td>\n",
       "      <td>18-Jun-13</td>\n",
       "      <td>21-Jun-14</td>\n",
       "    </tr>\n",
       "    <tr>\n",
       "      <th>1</th>\n",
       "      <td>7654321</td>\n",
       "      <td>Y</td>\n",
       "      <td>JADH</td>\n",
       "      <td>IIDB</td>\n",
       "      <td>B.Tech and M.Tech (Dual Degree)</td>\n",
       "      <td>Mathematics &amp; Computing</td>\n",
       "      <td>already a graduate</td>\n",
       "      <td>2012</td>\n",
       "      <td>8.5</td>\n",
       "      <td>10</td>\n",
       "      <td>8.6</td>\n",
       "      <td>10</td>\n",
       "      <td>86.2</td>\n",
       "      <td>91.6</td>\n",
       "      <td>job</td>\n",
       "      <td>Software Development</td>\n",
       "      <td>IIDB</td>\n",
       "      <td>01-Jul-13</td>\n",
       "      <td>NaN</td>\n",
       "    </tr>\n",
       "    <tr>\n",
       "      <th>2</th>\n",
       "      <td>7668677</td>\n",
       "      <td>Y</td>\n",
       "      <td>JAHG</td>\n",
       "      <td>IJCE</td>\n",
       "      <td>MBA</td>\n",
       "      <td>BUSINESS MANAGEMENT</td>\n",
       "      <td>1</td>\n",
       "      <td>2016</td>\n",
       "      <td>60.0</td>\n",
       "      <td>100</td>\n",
       "      <td>60.5</td>\n",
       "      <td>100</td>\n",
       "      <td>81.6</td>\n",
       "      <td>90.3</td>\n",
       "      <td>job</td>\n",
       "      <td>Operations Process Consulting + Coding</td>\n",
       "      <td>IIBD</td>\n",
       "      <td>06-May-13</td>\n",
       "      <td>13-Jun-14</td>\n",
       "    </tr>\n",
       "    <tr>\n",
       "      <th>3</th>\n",
       "      <td>7668677</td>\n",
       "      <td>Y</td>\n",
       "      <td>JAHG</td>\n",
       "      <td>IJCE</td>\n",
       "      <td>MBA</td>\n",
       "      <td>BUSINESS MANAGEMENT</td>\n",
       "      <td>1</td>\n",
       "      <td>2016</td>\n",
       "      <td>60.0</td>\n",
       "      <td>100</td>\n",
       "      <td>60.5</td>\n",
       "      <td>100</td>\n",
       "      <td>81.6</td>\n",
       "      <td>90.3</td>\n",
       "      <td>job</td>\n",
       "      <td>Product Development</td>\n",
       "      <td>IIBD</td>\n",
       "      <td>08-Aug-11</td>\n",
       "      <td>29-Mar-13</td>\n",
       "    </tr>\n",
       "    <tr>\n",
       "      <th>4</th>\n",
       "      <td>7654322</td>\n",
       "      <td>Y</td>\n",
       "      <td>JACD</td>\n",
       "      <td>JDAE</td>\n",
       "      <td>B.Tech</td>\n",
       "      <td>Biotechnology</td>\n",
       "      <td>already a graduate</td>\n",
       "      <td>2012</td>\n",
       "      <td>0.0</td>\n",
       "      <td>10</td>\n",
       "      <td>7.1</td>\n",
       "      <td>10</td>\n",
       "      <td>87.0</td>\n",
       "      <td>88.0</td>\n",
       "      <td>internship</td>\n",
       "      <td>Research Intern</td>\n",
       "      <td>IIBD</td>\n",
       "      <td>02-Jun-10</td>\n",
       "      <td>11-Jul-10</td>\n",
       "    </tr>\n",
       "  </tbody>\n",
       "</table>\n",
       "</div>"
      ],
      "text/plain": [
       "   Student_ID Institute_Category Institute_location hometown  \\\n",
       "0     7654321                  Y               JADH     IIDB   \n",
       "1     7654321                  Y               JADH     IIDB   \n",
       "2     7668677                  Y               JAHG     IJCE   \n",
       "3     7668677                  Y               JAHG     IJCE   \n",
       "4     7654322                  Y               JACD     JDAE   \n",
       "\n",
       "                            Degree                   Stream  \\\n",
       "0  B.Tech and M.Tech (Dual Degree)  Mathematics & Computing   \n",
       "1  B.Tech and M.Tech (Dual Degree)  Mathematics & Computing   \n",
       "2                              MBA      BUSINESS MANAGEMENT   \n",
       "3                              MBA      BUSINESS MANAGEMENT   \n",
       "4                           B.Tech            Biotechnology   \n",
       "\n",
       "         Current_year  Year_of_graduation  Performance_PG  PG_scale  \\\n",
       "0  already a graduate                2012             8.5        10   \n",
       "1  already a graduate                2012             8.5        10   \n",
       "2                   1                2016            60.0       100   \n",
       "3                   1                2016            60.0       100   \n",
       "4  already a graduate                2012             0.0        10   \n",
       "\n",
       "   Performance_UG  UG_Scale  Performance_12th  Performance_10th  \\\n",
       "0             8.6        10              86.2              91.6   \n",
       "1             8.6        10              86.2              91.6   \n",
       "2            60.5       100              81.6              90.3   \n",
       "3            60.5       100              81.6              90.3   \n",
       "4             7.1        10              87.0              88.0   \n",
       "\n",
       "  Experience_Type                                 Profile Location Start Date  \\\n",
       "0             job                    Software Engineering     IJCE  18-Jun-13   \n",
       "1             job                    Software Development     IIDB  01-Jul-13   \n",
       "2             job  Operations Process Consulting + Coding     IIBD  06-May-13   \n",
       "3             job                     Product Development     IIBD  08-Aug-11   \n",
       "4      internship                         Research Intern     IIBD  02-Jun-10   \n",
       "\n",
       "    End Date  \n",
       "0  21-Jun-14  \n",
       "1        NaN  \n",
       "2  13-Jun-14  \n",
       "3  29-Mar-13  \n",
       "4  11-Jul-10  "
      ]
     },
     "execution_count": 10,
     "metadata": {},
     "output_type": "execute_result"
    }
   ],
   "source": [
    "student.head()"
   ]
  },
  {
   "cell_type": "code",
   "execution_count": null,
   "metadata": {
    "collapsed": true
   },
   "outputs": [],
   "source": []
  }
 ],
 "metadata": {
  "kernelspec": {
   "display_name": "Python 3",
   "language": "python",
   "name": "python3"
  },
  "language_info": {
   "codemirror_mode": {
    "name": "ipython",
    "version": 3
   },
   "file_extension": ".py",
   "mimetype": "text/x-python",
   "name": "python",
   "nbconvert_exporter": "python",
   "pygments_lexer": "ipython3",
   "version": "3.4.3"
  }
 },
 "nbformat": 4,
 "nbformat_minor": 0
}
